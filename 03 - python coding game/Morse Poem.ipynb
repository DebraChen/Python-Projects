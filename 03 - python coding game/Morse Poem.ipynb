{
 "cells": [
  {
   "cell_type": "code",
   "execution_count": 1,
   "id": "a9299f9a-ec5f-4d97-892b-70b7a745cfb0",
   "metadata": {},
   "outputs": [
    {
     "name": "stdout",
     "output_type": "stream",
     "text": [
      "-... ..- -  .... ...-...-  -.- -. --- .-- ...  --. --- --- -..  - .... .. -. --. ...  .-- .. .---.. .---..  -.-. --- -- ...-...-  ...-...- ...- ...-...- -. - ..- .-.-.-.-.- .---.. .---.. -.-- .-.-.- \n",
      "BUT HE KNOWS GOOD THINGS WILL COME EVENTUALLY. \n"
     ]
    }
   ],
   "source": [
    "\n",
    "# Dictionary representing the morse code chart (some of letters's code has been changed)\n",
    "MORSE_CODE_DICT = { 'A':'.-.-.-.-.-', 'B':'-...',\n",
    "                    'C':'-.-.', 'D':'-..', 'E':'...-...-',\n",
    "                    'F':'..-.', 'G':'--.', 'H':'....',\n",
    "                    'I':'..', 'J':'.---', 'K':'-.-',\n",
    "                    'L':'.---..', 'M':'--', 'N':'-.',\n",
    "                    'O':'---', 'P':'.--.', 'Q':'--.-',\n",
    "                    'R':'.-.', 'S':'...', 'T':'-',\n",
    "                    'U':'..-', 'V':'...-', 'W':'.--',\n",
    "                    'X':'-..-', 'Y':'-.--', 'Z':'--..',\n",
    "                    '1':'.----', '2':'..---', '3':'...--',\n",
    "                    '4':'....-', '5':'.....', '6':'-....',\n",
    "                    '7':'--...', '8':'---..', '9':'----.',\n",
    "                    '0':'-----', ', ':'--..--', '.':'.-.-.-',\n",
    "                    '?':'..--..', '/':'-..-.', '-':'-....-',\n",
    "                    '(':'-.--.', ')':'-.--.-'}\n",
    " \n",
    "# Function to encrypt the string\n",
    "# according to the morse code chart\n",
    "def encrypt(message):\n",
    "    cipher = ''\n",
    "    for letter in message:\n",
    "        if letter != ' ':\n",
    " \n",
    "            # Looks up the dictionary and adds the correspponding morse code along with a space to separate morse codes for different characters\n",
    "            cipher += MORSE_CODE_DICT[letter] + ' '\n",
    "        else:\n",
    "            # 1 space indicates different characters\n",
    "            # and 2 indicates different words\n",
    "            cipher += ' '\n",
    " \n",
    "    return cipher\n",
    " \n",
    "# Function to decrypt the string\n",
    "# from morse to english\n",
    "def decrypt(message):\n",
    " \n",
    "    # extra space added at the end to access the\n",
    "    # last morse code\n",
    "    message += ' '\n",
    " \n",
    "    decipher = ''\n",
    "    citext = ''\n",
    "    for letter in message:\n",
    " \n",
    "        # checks for space\n",
    "        if (letter != ' '):\n",
    " \n",
    "            # counter to keep track of space\n",
    "            i = 0\n",
    " \n",
    "            # storing morse code of a single character\n",
    "            citext += letter\n",
    " \n",
    "        # in case of space\n",
    "        else:\n",
    "            # if i = 1 that indicates a new character\n",
    "            i += 1\n",
    " \n",
    "            # if i = 2 that indicates a new word\n",
    "            if i == 2 :\n",
    " \n",
    "                 # adding space to separate words\n",
    "                decipher += ' '\n",
    "            else:\n",
    " \n",
    "                # accessing the keys using their values (reverse of encryption)\n",
    "                decipher += list(MORSE_CODE_DICT.keys())[list(MORSE_CODE_DICT\n",
    "                .values()).index(citext)]\n",
    "                citext = ''\n",
    " \n",
    "    return decipher\n",
    " \n",
    "# Hard-coded driver function to run the program\n",
    "def main():\n",
    "    message = \"but he knows good things will come eventually.\"\n",
    "    result = encrypt(message.upper())\n",
    "    print (result)\n",
    " \n",
    "    message = \"-... ..- -  .... ...-...-  -.- -. --- .-- ...  --. --- --- -..  - .... .. -. --. ...  .-- .. .---.. .---..  -.-. --- -- ...-...-  ...-...- ...- ...-...- -. - ..- .-.-.-.-.- .---.. .---.. -.-- .-.-.- \"\n",
    "    result = decrypt(message)\n",
    "    print (result)\n",
    " \n",
    "# Executes the main function\n",
    "if __name__ == '__main__':\n",
    "    main()"
   ]
  },
  {
   "cell_type": "code",
   "execution_count": null,
   "id": "44af7730-da73-48fc-a1b0-cba5c1a2068a",
   "metadata": {},
   "outputs": [],
   "source": [
    "#Run the function then we will get 'BUT HE KNOWS GOOD THINGS WILL COME EVENTUALLY. '"
   ]
  },
  {
   "cell_type": "code",
   "execution_count": null,
   "id": "79975edb-aed6-4ed1-945b-61030696e54b",
   "metadata": {},
   "outputs": [],
   "source": [
    "#With the hint, we know that the right 'time' would be 'EVENTUALLY'"
   ]
  },
  {
   "cell_type": "code",
   "execution_count": null,
   "id": "6462985a-fe93-4486-9127-4fedf87be8f4",
   "metadata": {},
   "outputs": [],
   "source": [
    "#So the answer is "
   ]
  },
  {
   "cell_type": "code",
   "execution_count": null,
   "id": "76efb278-ab64-4645-ae16-950f4a60bb64",
   "metadata": {},
   "outputs": [],
   "source": [
    "https://yuweichen01.wixsite.com/debra-chen/eventually"
   ]
  }
 ],
 "metadata": {
  "kernelspec": {
   "display_name": "Python 3 (ipykernel)",
   "language": "python",
   "name": "python3"
  },
  "language_info": {
   "codemirror_mode": {
    "name": "ipython",
    "version": 3
   },
   "file_extension": ".py",
   "mimetype": "text/x-python",
   "name": "python",
   "nbconvert_exporter": "python",
   "pygments_lexer": "ipython3",
   "version": "3.9.7"
  }
 },
 "nbformat": 4,
 "nbformat_minor": 5
}
